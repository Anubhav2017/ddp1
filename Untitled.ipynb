{
 "cells": [
  {
   "cell_type": "code",
   "execution_count": 1,
   "id": "dc9060b2",
   "metadata": {},
   "outputs": [],
   "source": [
    "import numpy as np \n",
    "import tensorflow as tf \n",
    "from tensorflow.keras.datasets import mnist\n",
    "from tensorflow.keras.utils import to_categorical\n",
    "from tensorflow.keras.layers import Dense, Conv2D, Flatten, ReLU, Softmax \n",
    "from tensorflow.keras.models import Sequential\n"
   ]
  },
  {
   "cell_type": "code",
   "execution_count": 2,
   "id": "16413f93",
   "metadata": {},
   "outputs": [],
   "source": [
    "(X_train, y_train), (X_test, y_test) = mnist.load_data()\n",
    "\n",
    "y_train = to_categorical(y_train)\n",
    "y_test = to_categorical(y_test)\n",
    "X_train = X_train.reshape(-1,28,28,1)\n",
    "X_test = X_test.reshape(-1,28,28,1)\n"
   ]
  },
  {
   "cell_type": "code",
   "execution_count": 4,
   "id": "1a828ba3",
   "metadata": {},
   "outputs": [
    {
     "name": "stdout",
     "output_type": "stream",
     "text": [
      "Epoch 1/5\n",
      "1875/1875 [==============================] - 3s 1ms/step - loss: 4.1572 - accuracy: 0.6364 - val_loss: 0.2864 - val_accuracy: 0.9128\n",
      "Epoch 2/5\n",
      "1875/1875 [==============================] - 3s 1ms/step - loss: 0.2634 - accuracy: 0.9201 - val_loss: 0.1886 - val_accuracy: 0.9447\n",
      "Epoch 3/5\n",
      "1875/1875 [==============================] - 2s 1ms/step - loss: 0.1697 - accuracy: 0.9484 - val_loss: 0.1642 - val_accuracy: 0.9516\n",
      "Epoch 4/5\n",
      "1875/1875 [==============================] - 3s 1ms/step - loss: 0.1426 - accuracy: 0.9546 - val_loss: 0.1417 - val_accuracy: 0.9554\n",
      "Epoch 5/5\n",
      "1875/1875 [==============================] - 2s 1ms/step - loss: 0.1212 - accuracy: 0.9623 - val_loss: 0.1415 - val_accuracy: 0.9586\n"
     ]
    },
    {
     "data": {
      "text/plain": [
       "<tensorflow.python.keras.callbacks.History at 0x144e387c0>"
      ]
     },
     "execution_count": 4,
     "metadata": {},
     "output_type": "execute_result"
    }
   ],
   "source": [
    "model1 = Sequential()\n",
    "\n",
    "model1.add(Conv2D(3, kernel_size=(4,4), input_shape=(28,28,1),activation='relu'))\n",
    "model1.add(Conv2D(2, kernel_size=(3,3), activation='relu'))\n",
    "\n",
    "model1.add(Flatten())\n",
    "model1.add(Dense(10))\n",
    "\n",
    "model1.add(Softmax())\n",
    "\n",
    "model1.compile(optimizer='adam', loss='categorical_crossentropy', metrics=['accuracy'])\n",
    "model1.fit(X_train,y_train,validation_data=(X_test,y_test),epochs=5)\n"
   ]
  },
  {
   "cell_type": "code",
   "execution_count": 5,
   "id": "a47c1ed7",
   "metadata": {},
   "outputs": [
    {
     "name": "stderr",
     "output_type": "stream",
     "text": [
      "/Users/anubhav/miniforge3/envs/tf_macos/lib/python3.8/site-packages/numpy/core/_asarray.py:102: VisibleDeprecationWarning: Creating an ndarray from ragged nested sequences (which is a list-or-tuple of lists-or-tuples-or ndarrays with different lengths or shapes) is deprecated. If you meant to do this, you must specify 'dtype=object' when creating the ndarray.\n",
      "  return array(a, dtype, copy=False, order=order)\n"
     ]
    }
   ],
   "source": [
    "w1= (np.asarray(model1.layers[0].get_weights()))\n",
    "w2= (np.asarray(model1.layers[1].get_weights()))\n",
    "w3= (np.asarray(model1.layers[3].get_weights()))"
   ]
  },
  {
   "cell_type": "code",
   "execution_count": 6,
   "id": "8e241f4a",
   "metadata": {},
   "outputs": [],
   "source": [
    "model2 = Sequential()\n",
    "\n",
    "model2.add(Conv2D(3, kernel_size=(4,4), input_shape=(28,28,1),activation='relu'))\n",
    "model2.add(Conv2D(2, kernel_size=(3,3), activation='relu'))\n",
    "\n",
    "model2.add(Flatten())\n",
    "model2.add(Dense(10))\n",
    "\n",
    "model2.layers[0].set_weights(w1)\n",
    "model2.layers[1].set_weights(w2)\n",
    "model2.layers[3].set_weights(w3)\n"
   ]
  },
  {
   "cell_type": "code",
   "execution_count": 13,
   "id": "4338eaaf",
   "metadata": {},
   "outputs": [
    {
     "name": "stdout",
     "output_type": "stream",
     "text": [
      "9586\n",
      "414\n"
     ]
    }
   ],
   "source": [
    "correct=0\n",
    "wrong=0\n",
    "preds = model1.predict(X_test)\n",
    "for i in range(X_test.shape[0]):\n",
    "    if np.argmax(y_test[i]) == np.argmax(preds[i]):\n",
    "        correct +=1\n",
    "    else:\n",
    "        wrong +=1\n",
    "        \n",
    "print(correct)\n",
    "print(wrong)"
   ]
  },
  {
   "cell_type": "code",
   "execution_count": 9,
   "id": "d433dcbf",
   "metadata": {},
   "outputs": [
    {
     "name": "stdout",
     "output_type": "stream",
     "text": [
      "9586\n",
      "414\n"
     ]
    }
   ],
   "source": []
  },
  {
   "cell_type": "code",
   "execution_count": 10,
   "id": "fa38213f",
   "metadata": {},
   "outputs": [
    {
     "data": {
      "text/plain": [
       "array([[ -7.7674894 ,  -7.7999706 ,  -1.5361341 , ...,  10.029145  ,\n",
       "         -1.6910365 ,  -2.1851513 ],\n",
       "       [ -0.33672377,   2.8602939 ,  10.465194  , ...,  -9.8165045 ,\n",
       "         -3.4227338 , -10.466062  ],\n",
       "       [ -8.790438  ,   5.4057593 ,  -1.4487398 , ...,  -1.6850791 ,\n",
       "         -1.2604685 ,  -5.027281  ],\n",
       "       ...,\n",
       "       [-11.843028  , -10.337665  ,  -6.507675  , ...,  -0.8358593 ,\n",
       "         -1.5471753 ,   1.8744733 ],\n",
       "       [  1.3964831 ,  -4.497507  ,  -6.9741397 , ..., -14.571034  ,\n",
       "          2.607396  ,  -3.0957913 ],\n",
       "       [ -3.672158  , -21.481594  ,  -0.6325522 , ..., -11.121103  ,\n",
       "        -12.273071  , -11.787592  ]], dtype=float32)"
      ]
     },
     "execution_count": 10,
     "metadata": {},
     "output_type": "execute_result"
    }
   ],
   "source": [
    "preds"
   ]
  },
  {
   "cell_type": "code",
   "execution_count": null,
   "id": "519b67f6",
   "metadata": {},
   "outputs": [],
   "source": []
  }
 ],
 "metadata": {
  "kernelspec": {
   "display_name": "Python 3.8.8 64-bit ('tf_macos': conda)",
   "language": "python",
   "name": "python388jvsc74a57bd0d755005986633f3b53d906d3e3d2e1921bf6d72f36865c8d5a457c8f5f88fb1d"
  },
  "language_info": {
   "codemirror_mode": {
    "name": "ipython",
    "version": 3
   },
   "file_extension": ".py",
   "mimetype": "text/x-python",
   "name": "python",
   "nbconvert_exporter": "python",
   "pygments_lexer": "ipython3",
   "version": "3.8.8"
  }
 },
 "nbformat": 4,
 "nbformat_minor": 5
}
